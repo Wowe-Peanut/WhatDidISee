{
 "cells": [
  {
   "cell_type": "code",
   "execution_count": 1,
   "id": "f4a2b425",
   "metadata": {},
   "outputs": [
    {
     "data": {
      "text/html": [
       "\n",
       "$('<style>.cell { margin-bottom: 50px !important;}</style>').appendTo('head');\n"
      ]
     },
     "metadata": {},
     "output_type": "display_data"
    }
   ],
   "source": [
    "import numpy as np\n",
    "import matplotlib.pyplot as plt\n",
    "\n",
    "import torch   \n",
    "from torch import nn\n",
    "from torch.utils.data import DataLoader     # Puts dataset in iterable  \n",
    "import torchvision \n",
    "from torchvision import datasets            # Stores samples/labels\n",
    "from torchvision.transforms import ToTensor # Converts image to tensor (nparray)\n",
    "\n",
    "# Lets me adjust the spacing between cells\n",
    "import IPython.core.display as di\n",
    "di.display_html(\"\"\"\n",
    "$('<style>.cell { margin-bottom: 50px !important;}</style>').appendTo('head');\n",
    "\"\"\", raw=True)"
   ]
  },
  {
   "cell_type": "code",
   "execution_count": 2,
   "id": "c06755d7",
   "metadata": {},
   "outputs": [
    {
     "data": {
      "text/plain": [
       "''"
      ]
     },
     "execution_count": 2,
     "metadata": {},
     "output_type": "execute_result"
    }
   ],
   "source": [
    "# Download the training and testing datasets from MNIST\n",
    "trainingData = datasets.FashionMNIST(\n",
    "    root = \"data\",         # Which folder to download data to\n",
    "    train = True,          # Just tells it to give you the training set\n",
    "    download = True,       # Downloads to root directory  \n",
    "    transform = ToTensor()\n",
    ")\n",
    "\n",
    "\n",
    "# Import Testing Data\n",
    "testingData = datasets.FashionMNIST(\n",
    "    root = \"data\",\n",
    "    train = False,\n",
    "    download = True,\n",
    "    transform = ToTensor()\n",
    ")\n",
    ";"
   ]
  },
  {
   "cell_type": "code",
   "execution_count": 3,
   "id": "dedb02f1",
   "metadata": {},
   "outputs": [],
   "source": [
    "# Create an iterable with our datasets to loop through more easily\n",
    "batchSize = 64\n",
    "trainDataloader = DataLoader(trainingData, batch_size=batchSize)\n",
    "testDataloader = DataLoader(testingData, batch_size=batchSize)\n",
    "\n",
    "labelMap = {\n",
    "    0: \"T-Shirt\",\n",
    "    1: \"Trouser\",\n",
    "    2: \"Pullover\",\n",
    "    3: \"Dress\",\n",
    "    4: \"Coat\",\n",
    "    5: \"Sandal\",\n",
    "    6: \"Shirt\",\n",
    "    7: \"Sneaker\",\n",
    "    8: \"Bag\",\n",
    "    9: \"Ankle Boot\",\n",
    "}"
   ]
  },
  {
   "cell_type": "code",
   "execution_count": 4,
   "id": "84eaf472",
   "metadata": {},
   "outputs": [
    {
     "data": {
      "image/png": "[encoded data removed]",
      "text/plain": [
       "<Figure size 800x800 with 9 Axes>"
      ]
     },
     "metadata": {},
     "output_type": "display_data"
    }
   ],
   "source": [
    "# Example of looping through datasets\n",
    "figure = plt.figure(figsize=(8,8))\n",
    "cols, rows = 3, 3\n",
    "\n",
    "for i in range(1, cols*rows+1):\n",
    "    # Cursed way of getting random int: generate random 1x1 array \n",
    "    # and take the first item\n",
    "    sampleIndex = torch.randint(len(trainingData), size=(1,)).item()\n",
    "    image, label = trainingData[sampleIndex] #Get out random image and its label\n",
    "    \n",
    "    figure.add_subplot(rows, cols, i)\n",
    "    plt.title(labelMap[label])\n",
    "    plt.axis(\"off\") #Hides all axis decorations\n",
    "    \n",
    "    # 'Image' holds an array with 1 element: a single scaler image tensor\n",
    "    # .squeeze() flattens all dimensions of size 1\n",
    "    plt.imshow(image.squeeze(), cmap=\"gray\")\n",
    "    \n",
    "    \n",
    "plt.show()"
   ]
  },
  {
   "cell_type": "code",
   "execution_count": 5,
   "id": "d93b0670",
   "metadata": {},
   "outputs": [
    {
     "name": "stdout",
     "output_type": "stream",
     "text": [
      "Using cpu device\n"
     ]
    }
   ],
   "source": [
    "# Getting the device that will be used for training\n",
    "# cuda & mps both utilize GPU\n",
    "# if neither are available, use CPU\n",
    "\n",
    "device = (\n",
    "    # CUDA is a an Nvidia GPU model that lets use do calculations on GPU\n",
    "    \"cuda\" if torch.cuda.is_available()\n",
    "    else\n",
    "    \n",
    "    # MPS is similar to Cuda\n",
    "    \"mps\" if torch.backends.mps.is_available()\n",
    "    else\n",
    "    \n",
    "    # Not optimal (training/testing speed reduced greatly)\n",
    "    \"cpu\"\n",
    ")\n",
    "\n",
    "print(f\"Using {device} device\")"
   ]
  },
  {
   "cell_type": "code",
   "execution_count": 6,
   "id": "afe2f886",
   "metadata": {},
   "outputs": [
    {
     "name": "stdout",
     "output_type": "stream",
     "text": [
      "NeuralNetwork(\n",
      "  (flatten): Flatten(start_dim=1, end_dim=-1)\n",
      "  (linear_relu_stack): Sequential(\n",
      "    (0): Linear(in_features=784, out_features=512, bias=True)\n",
      "    (1): ReLU()\n",
      "    (2): Linear(in_features=512, out_features=512, bias=True)\n",
      "    (3): ReLU()\n",
      "    (4): Linear(in_features=512, out_features=10, bias=True)\n",
      "  )\n",
      ")\n"
     ]
    }
   ],
   "source": [
    "\n",
    "# Create our own custom model that inherits from PyTorch.nn.Module\n",
    "class NeuralNetwork(nn.Module):\n",
    "    \n",
    "    \n",
    "    # Setup our model\n",
    "    def __init__(self):\n",
    "        super().__init__()\n",
    "        \n",
    "        # Uses the parent function that flattens 2d inputs into 1d\n",
    "        self.flatten = nn.Flatten()\n",
    "        \n",
    "        # nn.Sequential allows for clear definition of what steps\n",
    "        # are performed when using the model\n",
    "        # 784 in --> 512 out\n",
    "        # ReLU is our activation function\n",
    "        self.linear_relu_stack = nn.Sequential(\n",
    "            nn.Linear(28*28, 512), \n",
    "            nn.ReLU(),             \n",
    "            nn.Linear(512, 512),\n",
    "            nn.ReLU(),\n",
    "            nn.Linear(512, 10)\n",
    "        )\n",
    "        \n",
    "    \n",
    "    # Define how each computational step runs\n",
    "    # Aka defines how values move through our layers\n",
    "    def forward(self, x):\n",
    "        x = self.flatten(x)\n",
    "        outVals = self.linear_relu_stack(x)\n",
    "        return outVals\n",
    "\n",
    "    \n",
    "#Create our model\n",
    "model = NeuralNetwork().to(device)\n",
    "print(model)"
   ]
  },
  {
   "cell_type": "code",
   "execution_count": 7,
   "id": "d75f60e2",
   "metadata": {},
   "outputs": [],
   "source": [
    "# Cross Entropy Loss is the best loss function for image classification\n",
    "lossFunc = nn.CrossEntropyLoss()\n",
    "\n",
    "# Is what actually performances backpropogation and changes weights/biases\n",
    "# lr = learning rate is how fast our parameters change each batch\n",
    "optimizer = torch.optim.SGD(model.parameters(), lr=1e-3)\n",
    "\n",
    "\n",
    "def train(dataloader, model, lossFunc, optimizer):\n",
    "    #When not in \"training mode\" the model will not do some calculations\n",
    "    model.train()\n",
    "    \n",
    "    for batchNumber, (batchImages, batchLabels) in enumerate(dataloader):\n",
    "        \n",
    "        #Put data onto the same device that the model is currently on\n",
    "        batchImages = batchImages.to(device)\n",
    "        batchLabels = batchLabels.to(device)\n",
    "        \n",
    "        #Make predictions with current weights, then calculate loss against actual labels\n",
    "        predictions = model(batchImages)\n",
    "        loss = lossFunc(predictions, batchLabels)\n",
    "        \n",
    "        #Backpropogation\n",
    "        loss.backward()  # Computes the negative gradient (direction to fastest decrease in loss function)\n",
    "        optimizer.step() # Backpropogates the negative gradient through all layers\n",
    "        optimizer.zero_grad() # Clears the gradient saved to optimizer (from loss.backward())\n",
    "        \n",
    "        #Print training loss every 100 batches\n",
    "        if batchNumber % 100 == 0:\n",
    "            lossNum = loss.item() # Returns loss value as python float\n",
    "            print(f\"Loss: {lossNum}\") \n",
    "        \n",
    "        \n",
    "        \n",
    "        \n",
    "    \n",
    "    "
   ]
  },
  {
   "cell_type": "code",
   "execution_count": 8,
   "id": "a76e7ea3",
   "metadata": {},
   "outputs": [
    {
     "name": "stdout",
     "output_type": "stream",
     "text": [
      "Loss: 2.308168649673462\n",
      "Loss: 2.297987461090088\n",
      "Loss: 2.279775381088257\n",
      "Loss: 2.2671782970428467\n",
      "Loss: 2.2593016624450684\n",
      "Loss: 2.2241814136505127\n",
      "Loss: 2.2279481887817383\n",
      "Loss: 2.197322130203247\n",
      "Loss: 2.1926958560943604\n",
      "Loss: 2.162140369415283\n"
     ]
    }
   ],
   "source": [
    "train(trainDataloader, model, lossFunc, optimizer)"
   ]
  },
  {
   "cell_type": "code",
   "execution_count": null,
   "id": "ecaa3d6b",
   "metadata": {},
   "outputs": [],
   "source": []
  }
 ],
 "metadata": {
  "kernelspec": {
   "display_name": "Python 3",
   "language": "python",
   "name": "python3"
  },
  "language_info": {
   "codemirror_mode": {
    "name": "ipython",
    "version": 3
   },
   "file_extension": ".py",
   "mimetype": "text/x-python",
   "name": "python",
   "nbconvert_exporter": "python",
   "pygments_lexer": "ipython3",
   "version": "3.9.12"
  }
 },
 "nbformat": 4,
 "nbformat_minor": 5
}
